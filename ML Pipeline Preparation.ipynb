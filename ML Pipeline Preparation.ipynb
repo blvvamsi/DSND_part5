{
 "cells": [
  {
   "cell_type": "markdown",
   "metadata": {},
   "source": [
    "# ML Pipeline Preparation\n",
    "Follow the instructions below to help you create your ML pipeline.\n",
    "### 1. Import libraries and load data from database.\n",
    "- Import Python libraries\n",
    "- Load dataset from database with [`read_sql_table`](https://pandas.pydata.org/pandas-docs/stable/generated/pandas.read_sql_table.html)\n",
    "- Define feature and target variables X and Y"
   ]
  },
  {
   "cell_type": "code",
   "execution_count": 1,
   "metadata": {},
   "outputs": [
    {
     "name": "stderr",
     "output_type": "stream",
     "text": [
      "/usr/lib/python3.6/importlib/_bootstrap.py:219: RuntimeWarning: numpy.ufunc size changed, may indicate binary incompatibility. Expected 192 from C header, got 216 from PyObject\n",
      "  return f(*args, **kwds)\n",
      "[nltk_data] Downloading package punkt to /home/bsaiva/nltk_data...\n",
      "[nltk_data]   Package punkt is already up-to-date!\n",
      "[nltk_data] Downloading package wordnet to /home/bsaiva/nltk_data...\n",
      "[nltk_data]   Package wordnet is already up-to-date!\n",
      "[nltk_data] Downloading package stopwords to /home/bsaiva/nltk_data...\n",
      "[nltk_data]   Package stopwords is already up-to-date!\n"
     ]
    },
    {
     "data": {
      "text/plain": [
       "True"
      ]
     },
     "execution_count": 1,
     "metadata": {},
     "output_type": "execute_result"
    }
   ],
   "source": [
    "# Importing all the libraries required for the project\n",
    "%matplotlib inline\n",
    "\n",
    "import re\n",
    "import matplotlib.pyplot as plt\n",
    "from sqlalchemy import create_engine\n",
    "import nltk\n",
    "from nltk.corpus import stopwords\n",
    "from nltk.tokenize import word_tokenize\n",
    "from nltk.stem import WordNetLemmatizer\n",
    "import numpy as np\n",
    "import pandas as pd\n",
    "import pickle\n",
    "from sklearn.ensemble import AdaBoostClassifier\n",
    "from sklearn.ensemble import RandomForestClassifier\n",
    "from sklearn.multioutput import MultiOutputClassifier\n",
    "from sklearn.pipeline import Pipeline\n",
    "from sklearn.feature_extraction.text import CountVectorizer, TfidfTransformer\n",
    "from sklearn.metrics import classification_report, accuracy_score, precision_score\n",
    "from sklearn.metrics import recall_score , f1_score\n",
    "from sklearn.model_selection import train_test_split, GridSearchCV\n",
    "from sklearn.tree import DecisionTreeClassifier\n",
    "\n",
    "nltk.download('punkt')\n",
    "nltk.download('wordnet')\n",
    "nltk.download('stopwords')"
   ]
  },
  {
   "cell_type": "code",
   "execution_count": 2,
   "metadata": {},
   "outputs": [],
   "source": [
    "# loading the  data from database\n",
    "engine = create_engine('sqlite:///InsertDatabaseName.db')\n",
    "\n",
    "# reading the new table we created in the ETL pipeline preparation\n",
    "df = pd.read_sql_table('InsertTableName', con=engine)\n",
    "\n",
    "categories = df.columns[4:]\n",
    "\n",
    "X = df[['message']].values[:, 0]\n",
    "y = df[categories].values"
   ]
  },
  {
   "cell_type": "markdown",
   "metadata": {},
   "source": [
    "### 2. Write a tokenization function to process your text data"
   ]
  },
  {
   "cell_type": "code",
   "execution_count": 6,
   "metadata": {},
   "outputs": [],
   "source": [
    "url_re = 'http[s]?://(?:[a-zA-Z]|[0-9]|[$-_@.&+]|[!*\\(\\),]|(?:%[0-9a-fA-F][0-9a-fA-F]))+'\n",
    "\n",
    "def tokenize_fn(text, lemmatizer=WordNetLemmatizer()):\n",
    "    \n",
    "    det_urls = re.findall(url_re, text)\n",
    "    for url in det_urls:\n",
    "        text = text.replace(url, 'urlplaceholder')\n",
    "    \n",
    "    # tokenizing\n",
    "    tokens = nltk.word_tokenize(re.sub(r\"[^a-zA-Z0-9]\", \" \", text.lower()))\n",
    "    \n",
    "    # Stopword removal\n",
    "    tokens = [t for t in tokens if t not in stopwords.words('english')]\n",
    "\n",
    "    # lemmatizing\n",
    "    tokens = [lemmatizer.lemmatize(t) for t in tokens]\n",
    "    \n",
    "    return tokens"
   ]
  },
  {
   "cell_type": "code",
   "execution_count": 7,
   "metadata": {},
   "outputs": [],
   "source": [
    "# Checking vocabulary\n",
    "vect = CountVectorizer(tokenizer=tokenize_fn)\n",
    "X_vectorized = vect.fit_transform(X)"
   ]
  },
  {
   "cell_type": "code",
   "execution_count": null,
   "metadata": {},
   "outputs": [],
   "source": []
  },
  {
   "cell_type": "code",
   "execution_count": null,
   "metadata": {
    "scrolled": false
   },
   "outputs": [],
   "source": []
  },
  {
   "cell_type": "markdown",
   "metadata": {},
   "source": [
    "### 3. Build a machine learning pipeline\n",
    "- You'll find the [MultiOutputClassifier](http://scikit-learn.org/stable/modules/generated/sklearn.multioutput.MultiOutputClassifier.html) helpful for predicting multiple target variables."
   ]
  },
  {
   "cell_type": "code",
   "execution_count": 8,
   "metadata": {},
   "outputs": [],
   "source": [
    "# Creating the pipeline with random forest classifier\n",
    "pipeline = Pipeline([\n",
    "    ('vect', CountVectorizer(tokenizer=tokenize_fn)),\n",
    "    ('tfidf', TfidfTransformer()),\n",
    "    ('clf', MultiOutputClassifier(RandomForestClassifier(class_weight='balanced')))\n",
    "])"
   ]
  },
  {
   "cell_type": "markdown",
   "metadata": {},
   "source": [
    "### 4. Train pipeline\n",
    "- Split data into train and test sets\n",
    "- Train pipeline"
   ]
  },
  {
   "cell_type": "code",
   "execution_count": 9,
   "metadata": {},
   "outputs": [
    {
     "data": {
      "text/plain": [
       "Pipeline(memory=None,\n",
       "         steps=[('vect',\n",
       "                 CountVectorizer(analyzer='word', binary=False,\n",
       "                                 decode_error='strict',\n",
       "                                 dtype=<class 'numpy.int64'>, encoding='utf-8',\n",
       "                                 input='content', lowercase=True, max_df=1.0,\n",
       "                                 max_features=None, min_df=1,\n",
       "                                 ngram_range=(1, 1), preprocessor=None,\n",
       "                                 stop_words=None, strip_accents=None,\n",
       "                                 token_pattern='(?u)\\\\b\\\\w\\\\w+\\\\b',\n",
       "                                 tokenizer=<function tokenize_f...\n",
       "                                                                        class_weight='balanced',\n",
       "                                                                        criterion='gini',\n",
       "                                                                        max_depth=None,\n",
       "                                                                        max_features='auto',\n",
       "                                                                        max_leaf_nodes=None,\n",
       "                                                                        max_samples=None,\n",
       "                                                                        min_impurity_decrease=0.0,\n",
       "                                                                        min_impurity_split=None,\n",
       "                                                                        min_samples_leaf=1,\n",
       "                                                                        min_samples_split=2,\n",
       "                                                                        min_weight_fraction_leaf=0.0,\n",
       "                                                                        n_estimators=100,\n",
       "                                                                        n_jobs=None,\n",
       "                                                                        oob_score=False,\n",
       "                                                                        random_state=None,\n",
       "                                                                        verbose=0,\n",
       "                                                                        warm_start=False),\n",
       "                                       n_jobs=None))],\n",
       "         verbose=False)"
      ]
     },
     "execution_count": 9,
     "metadata": {},
     "output_type": "execute_result"
    }
   ],
   "source": [
    "# Spiltting dataset and fitting the pipeline\n",
    "X_train, X_test, y_train, y_test = train_test_split(X, y)\n",
    "pipeline.fit(X_train, y_train)"
   ]
  },
  {
   "cell_type": "markdown",
   "metadata": {},
   "source": [
    "### 5. Test your model\n",
    "Report the f1 score, precision and recall on both the training set and the test set. You can use sklearn's `classification_report` function here. "
   ]
  },
  {
   "cell_type": "code",
   "execution_count": 10,
   "metadata": {
    "scrolled": false
   },
   "outputs": [],
   "source": [
    "def my_modified_report(y_re, y_pre):\n",
    "    for p in range(0, len(categories)):\n",
    "        print(categories[p])\n",
    "        print(\"\\tAccuracy: {:.4f}\\t\\t% Recall is: {:.4f}% Precision score is: {:.4f}% F1_score is : {:.4f}\".format(\n",
    "            accuracy_score(y_re[:, p], y_pre[:, p]),\n",
    "            recall_score(y_re[:, p], y_pre[:, p], average='weighted'),\n",
    "            precision_score(y_re[:, p], y_pre[:, p], average='weighted'),\n",
    "            f1_score(y_re[:, p], y_pre[:, p], average='weighted')\n",
    "        ))\n",
    "        "
   ]
  },
  {
   "cell_type": "code",
   "execution_count": 11,
   "metadata": {},
   "outputs": [
    {
     "name": "stdout",
     "output_type": "stream",
     "text": [
      "related\n",
      "\tAccuracy: 0.9983\t\t% Recall is: 0.9983% Precision score is: 0.9983% F1_score is : 0.9983\n",
      "request\n",
      "\tAccuracy: 0.9988\t\t% Recall is: 0.9988% Precision score is: 0.9988% F1_score is : 0.9988\n",
      "offer\n",
      "\tAccuracy: 0.9998\t\t% Recall is: 0.9998% Precision score is: 0.9999% F1_score is : 0.9998\n",
      "aid_related\n",
      "\tAccuracy: 0.9987\t\t% Recall is: 0.9987% Precision score is: 0.9987% F1_score is : 0.9987\n",
      "medical_help\n",
      "\tAccuracy: 0.9994\t\t% Recall is: 0.9994% Precision score is: 0.9994% F1_score is : 0.9994\n",
      "medical_products\n",
      "\tAccuracy: 0.9994\t\t% Recall is: 0.9994% Precision score is: 0.9994% F1_score is : 0.9994\n",
      "search_and_rescue\n",
      "\tAccuracy: 0.9997\t\t% Recall is: 0.9997% Precision score is: 0.9997% F1_score is : 0.9997\n",
      "security\n",
      "\tAccuracy: 0.9997\t\t% Recall is: 0.9997% Precision score is: 0.9997% F1_score is : 0.9997\n",
      "military\n",
      "\tAccuracy: 0.9998\t\t% Recall is: 0.9998% Precision score is: 0.9998% F1_score is : 0.9998\n",
      "child_alone\n",
      "\tAccuracy: 1.0000\t\t% Recall is: 1.0000% Precision score is: 1.0000% F1_score is : 1.0000\n",
      "water\n",
      "\tAccuracy: 0.9999\t\t% Recall is: 0.9999% Precision score is: 0.9999% F1_score is : 0.9999\n",
      "food\n",
      "\tAccuracy: 0.9998\t\t% Recall is: 0.9998% Precision score is: 0.9998% F1_score is : 0.9998\n",
      "shelter\n",
      "\tAccuracy: 0.9998\t\t% Recall is: 0.9998% Precision score is: 0.9998% F1_score is : 0.9998\n",
      "clothing\n",
      "\tAccuracy: 0.9999\t\t% Recall is: 0.9999% Precision score is: 0.9999% F1_score is : 0.9999\n",
      "money\n",
      "\tAccuracy: 0.9999\t\t% Recall is: 0.9999% Precision score is: 0.9999% F1_score is : 0.9999\n",
      "missing_people\n",
      "\tAccuracy: 0.9999\t\t% Recall is: 0.9999% Precision score is: 0.9999% F1_score is : 0.9999\n",
      "refugees\n",
      "\tAccuracy: 0.9996\t\t% Recall is: 0.9996% Precision score is: 0.9996% F1_score is : 0.9996\n",
      "death\n",
      "\tAccuracy: 0.9998\t\t% Recall is: 0.9998% Precision score is: 0.9998% F1_score is : 0.9998\n",
      "other_aid\n",
      "\tAccuracy: 0.9990\t\t% Recall is: 0.9990% Precision score is: 0.9990% F1_score is : 0.9990\n",
      "infrastructure_related\n",
      "\tAccuracy: 0.9997\t\t% Recall is: 0.9997% Precision score is: 0.9997% F1_score is : 0.9997\n",
      "transport\n",
      "\tAccuracy: 0.9997\t\t% Recall is: 0.9997% Precision score is: 0.9997% F1_score is : 0.9997\n",
      "buildings\n",
      "\tAccuracy: 0.9999\t\t% Recall is: 0.9999% Precision score is: 0.9999% F1_score is : 0.9999\n",
      "electricity\n",
      "\tAccuracy: 1.0000\t\t% Recall is: 1.0000% Precision score is: 1.0000% F1_score is : 1.0000\n",
      "tools\n",
      "\tAccuracy: 0.9999\t\t% Recall is: 0.9999% Precision score is: 0.9999% F1_score is : 0.9999\n",
      "hospitals\n",
      "\tAccuracy: 1.0000\t\t% Recall is: 1.0000% Precision score is: 1.0000% F1_score is : 1.0000\n",
      "shops\n",
      "\tAccuracy: 0.9999\t\t% Recall is: 0.9999% Precision score is: 0.9999% F1_score is : 0.9999\n",
      "aid_centers\n",
      "\tAccuracy: 0.9999\t\t% Recall is: 0.9999% Precision score is: 0.9999% F1_score is : 0.9999\n",
      "other_infrastructure\n",
      "\tAccuracy: 0.9996\t\t% Recall is: 0.9996% Precision score is: 0.9996% F1_score is : 0.9996\n",
      "weather_related\n",
      "\tAccuracy: 0.9994\t\t% Recall is: 0.9994% Precision score is: 0.9994% F1_score is : 0.9994\n",
      "floods\n",
      "\tAccuracy: 0.9997\t\t% Recall is: 0.9997% Precision score is: 0.9997% F1_score is : 0.9997\n",
      "storm\n",
      "\tAccuracy: 0.9998\t\t% Recall is: 0.9998% Precision score is: 0.9998% F1_score is : 0.9998\n",
      "fire\n",
      "\tAccuracy: 1.0000\t\t% Recall is: 1.0000% Precision score is: 1.0000% F1_score is : 1.0000\n",
      "earthquake\n",
      "\tAccuracy: 0.9996\t\t% Recall is: 0.9996% Precision score is: 0.9996% F1_score is : 0.9996\n",
      "cold\n",
      "\tAccuracy: 0.9998\t\t% Recall is: 0.9998% Precision score is: 0.9998% F1_score is : 0.9998\n",
      "other_weather\n",
      "\tAccuracy: 0.9997\t\t% Recall is: 0.9997% Precision score is: 0.9997% F1_score is : 0.9997\n",
      "direct_report\n",
      "\tAccuracy: 0.9989\t\t% Recall is: 0.9989% Precision score is: 0.9989% F1_score is : 0.9989\n"
     ]
    }
   ],
   "source": [
    " # Testing the pipeline\n",
    "y_pred = pipeline.predict(X_train)\n",
    "my_modified_report(y_train, y_pred)"
   ]
  },
  {
   "cell_type": "code",
   "execution_count": 12,
   "metadata": {},
   "outputs": [
    {
     "name": "stdout",
     "output_type": "stream",
     "text": [
      "related\n",
      "\tAccuracy: 0.8300\t\t% Recall is: 0.8300% Precision score is: 0.8184% F1_score is : 0.8164\n",
      "request\n",
      "\tAccuracy: 0.9007\t\t% Recall is: 0.9007% Precision score is: 0.8956% F1_score is : 0.8922\n",
      "offer\n",
      "\tAccuracy: 0.9940\t\t% Recall is: 0.9940% Precision score is: 0.9884% F1_score is : 0.9912\n",
      "aid_related\n",
      "\tAccuracy: 0.7875\t\t% Recall is: 0.7875% Precision score is: 0.7865% F1_score is : 0.7867\n",
      "medical_help\n",
      "\tAccuracy: 0.9231\t\t% Recall is: 0.9231% Precision score is: 0.9114% F1_score is : 0.8903\n",
      "medical_products\n",
      "\tAccuracy: 0.9559\t\t% Recall is: 0.9559% Precision score is: 0.9476% F1_score is : 0.9382\n",
      "search_and_rescue\n",
      "\tAccuracy: 0.9725\t\t% Recall is: 0.9725% Precision score is: 0.9533% F1_score is : 0.9596\n",
      "security\n",
      "\tAccuracy: 0.9837\t\t% Recall is: 0.9837% Precision score is: 0.9759% F1_score is : 0.9759\n",
      "military\n",
      "\tAccuracy: 0.9646\t\t% Recall is: 0.9646% Precision score is: 0.9477% F1_score is : 0.9498\n",
      "child_alone\n",
      "\tAccuracy: 1.0000\t\t% Recall is: 1.0000% Precision score is: 1.0000% F1_score is : 1.0000\n",
      "water\n",
      "\tAccuracy: 0.9541\t\t% Recall is: 0.9541% Precision score is: 0.9489% F1_score is : 0.9450\n",
      "food\n",
      "\tAccuracy: 0.9367\t\t% Recall is: 0.9367% Precision score is: 0.9334% F1_score is : 0.9294\n",
      "shelter\n",
      "\tAccuracy: 0.9347\t\t% Recall is: 0.9347% Precision score is: 0.9310% F1_score is : 0.9189\n",
      "clothing\n",
      "\tAccuracy: 0.9864\t\t% Recall is: 0.9864% Precision score is: 0.9844% F1_score is : 0.9805\n",
      "money\n",
      "\tAccuracy: 0.9764\t\t% Recall is: 0.9764% Precision score is: 0.9769% F1_score is : 0.9654\n",
      "missing_people\n",
      "\tAccuracy: 0.9898\t\t% Recall is: 0.9898% Precision score is: 0.9797% F1_score is : 0.9847\n",
      "refugees\n",
      "\tAccuracy: 0.9655\t\t% Recall is: 0.9655% Precision score is: 0.9496% F1_score is : 0.9489\n",
      "death\n",
      "\tAccuracy: 0.9602\t\t% Recall is: 0.9602% Precision score is: 0.9525% F1_score is : 0.9444\n",
      "other_aid\n",
      "\tAccuracy: 0.8650\t\t% Recall is: 0.8650% Precision score is: 0.8285% F1_score is : 0.8128\n",
      "infrastructure_related\n",
      "\tAccuracy: 0.9344\t\t% Recall is: 0.9344% Precision score is: 0.8756% F1_score is : 0.9040\n",
      "transport\n",
      "\tAccuracy: 0.9561\t\t% Recall is: 0.9561% Precision score is: 0.9402% F1_score is : 0.9363\n",
      "buildings\n",
      "\tAccuracy: 0.9533\t\t% Recall is: 0.9533% Precision score is: 0.9401% F1_score is : 0.9350\n",
      "electricity\n",
      "\tAccuracy: 0.9799\t\t% Recall is: 0.9799% Precision score is: 0.9803% F1_score is : 0.9700\n",
      "tools\n",
      "\tAccuracy: 0.9944\t\t% Recall is: 0.9944% Precision score is: 0.9887% F1_score is : 0.9915\n",
      "hospitals\n",
      "\tAccuracy: 0.9898\t\t% Recall is: 0.9898% Precision score is: 0.9797% F1_score is : 0.9847\n",
      "shops\n",
      "\tAccuracy: 0.9948\t\t% Recall is: 0.9948% Precision score is: 0.9897% F1_score is : 0.9922\n",
      "aid_centers\n",
      "\tAccuracy: 0.9878\t\t% Recall is: 0.9878% Precision score is: 0.9775% F1_score is : 0.9826\n",
      "other_infrastructure\n",
      "\tAccuracy: 0.9564\t\t% Recall is: 0.9564% Precision score is: 0.9155% F1_score is : 0.9355\n",
      "weather_related\n",
      "\tAccuracy: 0.8766\t\t% Recall is: 0.8766% Precision score is: 0.8738% F1_score is : 0.8731\n",
      "floods\n",
      "\tAccuracy: 0.9420\t\t% Recall is: 0.9420% Precision score is: 0.9390% F1_score is : 0.9277\n",
      "storm\n",
      "\tAccuracy: 0.9368\t\t% Recall is: 0.9368% Precision score is: 0.9303% F1_score is : 0.9267\n",
      "fire\n",
      "\tAccuracy: 0.9889\t\t% Recall is: 0.9889% Precision score is: 0.9778% F1_score is : 0.9833\n",
      "earthquake\n",
      "\tAccuracy: 0.9628\t\t% Recall is: 0.9628% Precision score is: 0.9612% F1_score is : 0.9606\n",
      "cold\n",
      "\tAccuracy: 0.9799\t\t% Recall is: 0.9799% Precision score is: 0.9702% F1_score is : 0.9714\n",
      "other_weather\n",
      "\tAccuracy: 0.9480\t\t% Recall is: 0.9480% Precision score is: 0.9249% F1_score is : 0.9232\n",
      "direct_report\n",
      "\tAccuracy: 0.8621\t\t% Recall is: 0.8621% Precision score is: 0.8549% F1_score is : 0.8449\n"
     ]
    },
    {
     "name": "stderr",
     "output_type": "stream",
     "text": [
      "/home/bsaiva/.local/lib/python3.6/site-packages/sklearn/metrics/_classification.py:1272: UndefinedMetricWarning: Precision is ill-defined and being set to 0.0 in labels with no predicted samples. Use `zero_division` parameter to control this behavior.\n",
      "  _warn_prf(average, modifier, msg_start, len(result))\n"
     ]
    }
   ],
   "source": [
    "# On test data\n",
    "y_pred = pipeline.predict(X_test)\n",
    "my_modified_report(y_test, y_pred)"
   ]
  },
  {
   "cell_type": "markdown",
   "metadata": {},
   "source": [
    "### 6. Improve your model\n",
    "Use grid search to find better parameters. "
   ]
  },
  {
   "cell_type": "code",
   "execution_count": 14,
   "metadata": {},
   "outputs": [],
   "source": [
    "# Using grid search now to find the best parameters for our model\n",
    "\n",
    "parameters = {\n",
    "    # n estimators value fixed between 20 to 50 to find best fit\n",
    "    'clf__estimator__n_estimators': [20, 50]\n",
    "    \n",
    "}\n",
    "\n",
    "cv_b = GridSearchCV(estimator=pipeline, param_grid=parameters, cv=3, scoring='f1_weighted', verbose=3)"
   ]
  },
  {
   "cell_type": "code",
   "execution_count": 15,
   "metadata": {
    "scrolled": false
   },
   "outputs": [
    {
     "name": "stderr",
     "output_type": "stream",
     "text": [
      "[Parallel(n_jobs=1)]: Using backend SequentialBackend with 1 concurrent workers.\n"
     ]
    },
    {
     "name": "stdout",
     "output_type": "stream",
     "text": [
      "Fitting 3 folds for each of 2 candidates, totalling 6 fits\n",
      "[CV] clf__estimator__n_estimators=20 .................................\n"
     ]
    },
    {
     "name": "stderr",
     "output_type": "stream",
     "text": [
      "/home/bsaiva/.local/lib/python3.6/site-packages/sklearn/metrics/_classification.py:1515: UndefinedMetricWarning: F-score is ill-defined and being set to 0.0 in labels with no true nor predicted samples. Use `zero_division` parameter to control this behavior.\n",
      "  average, \"true nor predicted\", 'F-score is', len(true_sum)\n",
      "[Parallel(n_jobs=1)]: Done   1 out of   1 | elapsed:  1.5min remaining:    0.0s\n"
     ]
    },
    {
     "name": "stdout",
     "output_type": "stream",
     "text": [
      "[CV] ..... clf__estimator__n_estimators=20, score=0.544, total= 1.5min\n",
      "[CV] clf__estimator__n_estimators=20 .................................\n"
     ]
    },
    {
     "name": "stderr",
     "output_type": "stream",
     "text": [
      "/home/bsaiva/.local/lib/python3.6/site-packages/sklearn/metrics/_classification.py:1515: UndefinedMetricWarning: F-score is ill-defined and being set to 0.0 in labels with no true nor predicted samples. Use `zero_division` parameter to control this behavior.\n",
      "  average, \"true nor predicted\", 'F-score is', len(true_sum)\n",
      "[Parallel(n_jobs=1)]: Done   2 out of   2 | elapsed:  3.0min remaining:    0.0s\n"
     ]
    },
    {
     "name": "stdout",
     "output_type": "stream",
     "text": [
      "[CV] ..... clf__estimator__n_estimators=20, score=0.533, total= 1.5min\n",
      "[CV] clf__estimator__n_estimators=20 .................................\n"
     ]
    },
    {
     "name": "stderr",
     "output_type": "stream",
     "text": [
      "/home/bsaiva/.local/lib/python3.6/site-packages/sklearn/metrics/_classification.py:1515: UndefinedMetricWarning: F-score is ill-defined and being set to 0.0 in labels with no true nor predicted samples. Use `zero_division` parameter to control this behavior.\n",
      "  average, \"true nor predicted\", 'F-score is', len(true_sum)\n"
     ]
    },
    {
     "name": "stdout",
     "output_type": "stream",
     "text": [
      "[CV] ..... clf__estimator__n_estimators=20, score=0.540, total= 1.5min\n",
      "[CV] clf__estimator__n_estimators=50 .................................\n"
     ]
    },
    {
     "name": "stderr",
     "output_type": "stream",
     "text": [
      "/home/bsaiva/.local/lib/python3.6/site-packages/sklearn/metrics/_classification.py:1515: UndefinedMetricWarning: F-score is ill-defined and being set to 0.0 in labels with no true nor predicted samples. Use `zero_division` parameter to control this behavior.\n",
      "  average, \"true nor predicted\", 'F-score is', len(true_sum)\n"
     ]
    },
    {
     "name": "stdout",
     "output_type": "stream",
     "text": [
      "[CV] ..... clf__estimator__n_estimators=50, score=0.549, total= 2.5min\n",
      "[CV] clf__estimator__n_estimators=50 .................................\n"
     ]
    },
    {
     "name": "stderr",
     "output_type": "stream",
     "text": [
      "/home/bsaiva/.local/lib/python3.6/site-packages/sklearn/metrics/_classification.py:1515: UndefinedMetricWarning: F-score is ill-defined and being set to 0.0 in labels with no true nor predicted samples. Use `zero_division` parameter to control this behavior.\n",
      "  average, \"true nor predicted\", 'F-score is', len(true_sum)\n"
     ]
    },
    {
     "name": "stdout",
     "output_type": "stream",
     "text": [
      "[CV] ..... clf__estimator__n_estimators=50, score=0.543, total= 2.6min\n",
      "[CV] clf__estimator__n_estimators=50 .................................\n"
     ]
    },
    {
     "name": "stderr",
     "output_type": "stream",
     "text": [
      "/home/bsaiva/.local/lib/python3.6/site-packages/sklearn/metrics/_classification.py:1515: UndefinedMetricWarning: F-score is ill-defined and being set to 0.0 in labels with no true nor predicted samples. Use `zero_division` parameter to control this behavior.\n",
      "  average, \"true nor predicted\", 'F-score is', len(true_sum)\n",
      "[Parallel(n_jobs=1)]: Done   6 out of   6 | elapsed: 12.0min finished\n"
     ]
    },
    {
     "name": "stdout",
     "output_type": "stream",
     "text": [
      "[CV] ..... clf__estimator__n_estimators=50, score=0.546, total= 2.5min\n"
     ]
    },
    {
     "data": {
      "text/plain": [
       "GridSearchCV(cv=3, error_score=nan,\n",
       "             estimator=Pipeline(memory=None,\n",
       "                                steps=[('vect',\n",
       "                                        CountVectorizer(analyzer='word',\n",
       "                                                        binary=False,\n",
       "                                                        decode_error='strict',\n",
       "                                                        dtype=<class 'numpy.int64'>,\n",
       "                                                        encoding='utf-8',\n",
       "                                                        input='content',\n",
       "                                                        lowercase=True,\n",
       "                                                        max_df=1.0,\n",
       "                                                        max_features=None,\n",
       "                                                        min_df=1,\n",
       "                                                        ngram_range=(1, 1),\n",
       "                                                        preprocessor=None,\n",
       "                                                        stop_words=None,\n",
       "                                                        strip_accents=None,\n",
       "                                                        token_pattern='(?u)...\n",
       "                                                                                               min_samples_leaf=1,\n",
       "                                                                                               min_samples_split=2,\n",
       "                                                                                               min_weight_fraction_leaf=0.0,\n",
       "                                                                                               n_estimators=100,\n",
       "                                                                                               n_jobs=None,\n",
       "                                                                                               oob_score=False,\n",
       "                                                                                               random_state=None,\n",
       "                                                                                               verbose=0,\n",
       "                                                                                               warm_start=False),\n",
       "                                                              n_jobs=None))],\n",
       "                                verbose=False),\n",
       "             iid='deprecated', n_jobs=None,\n",
       "             param_grid={'clf__estimator__n_estimators': [20, 50]},\n",
       "             pre_dispatch='2*n_jobs', refit=True, return_train_score=False,\n",
       "             scoring='f1_weighted', verbose=3)"
      ]
     },
     "execution_count": 15,
     "metadata": {},
     "output_type": "execute_result"
    }
   ],
   "source": [
    "cv_b.fit(X_train, y_train)"
   ]
  },
  {
   "cell_type": "markdown",
   "metadata": {},
   "source": [
    "### 7. Test your model\n",
    "Show the accuracy, precision, and recall of the tuned model."
   ]
  },
  {
   "cell_type": "code",
   "execution_count": 16,
   "metadata": {},
   "outputs": [
    {
     "name": "stdout",
     "output_type": "stream",
     "text": [
      "related\n",
      "\tAccuracy: 0.9982\t\t% Recall is: 0.9982% Precision score is: 0.9982% F1_score is : 0.9982\n",
      "request\n",
      "\tAccuracy: 0.9988\t\t% Recall is: 0.9988% Precision score is: 0.9988% F1_score is : 0.9988\n",
      "offer\n",
      "\tAccuracy: 0.9997\t\t% Recall is: 0.9997% Precision score is: 0.9997% F1_score is : 0.9997\n",
      "aid_related\n",
      "\tAccuracy: 0.9985\t\t% Recall is: 0.9985% Precision score is: 0.9985% F1_score is : 0.9985\n",
      "medical_help\n",
      "\tAccuracy: 0.9990\t\t% Recall is: 0.9990% Precision score is: 0.9990% F1_score is : 0.9990\n",
      "medical_products\n",
      "\tAccuracy: 0.9992\t\t% Recall is: 0.9992% Precision score is: 0.9992% F1_score is : 0.9992\n",
      "search_and_rescue\n",
      "\tAccuracy: 0.9994\t\t% Recall is: 0.9994% Precision score is: 0.9994% F1_score is : 0.9994\n",
      "security\n",
      "\tAccuracy: 0.9992\t\t% Recall is: 0.9992% Precision score is: 0.9992% F1_score is : 0.9992\n",
      "military\n",
      "\tAccuracy: 0.9997\t\t% Recall is: 0.9997% Precision score is: 0.9997% F1_score is : 0.9997\n",
      "child_alone\n",
      "\tAccuracy: 1.0000\t\t% Recall is: 1.0000% Precision score is: 1.0000% F1_score is : 1.0000\n",
      "water\n",
      "\tAccuracy: 0.9998\t\t% Recall is: 0.9998% Precision score is: 0.9998% F1_score is : 0.9998\n",
      "food\n",
      "\tAccuracy: 0.9998\t\t% Recall is: 0.9998% Precision score is: 0.9998% F1_score is : 0.9998\n",
      "shelter\n",
      "\tAccuracy: 0.9998\t\t% Recall is: 0.9998% Precision score is: 0.9998% F1_score is : 0.9998\n",
      "clothing\n",
      "\tAccuracy: 0.9998\t\t% Recall is: 0.9998% Precision score is: 0.9998% F1_score is : 0.9998\n",
      "money\n",
      "\tAccuracy: 0.9998\t\t% Recall is: 0.9998% Precision score is: 0.9998% F1_score is : 0.9998\n",
      "missing_people\n",
      "\tAccuracy: 0.9995\t\t% Recall is: 0.9995% Precision score is: 0.9995% F1_score is : 0.9995\n",
      "refugees\n",
      "\tAccuracy: 0.9994\t\t% Recall is: 0.9994% Precision score is: 0.9994% F1_score is : 0.9994\n",
      "death\n",
      "\tAccuracy: 0.9995\t\t% Recall is: 0.9995% Precision score is: 0.9995% F1_score is : 0.9995\n",
      "other_aid\n",
      "\tAccuracy: 0.9985\t\t% Recall is: 0.9985% Precision score is: 0.9985% F1_score is : 0.9985\n",
      "infrastructure_related\n",
      "\tAccuracy: 0.9991\t\t% Recall is: 0.9991% Precision score is: 0.9991% F1_score is : 0.9991\n",
      "transport\n",
      "\tAccuracy: 0.9991\t\t% Recall is: 0.9991% Precision score is: 0.9991% F1_score is : 0.9991\n",
      "buildings\n",
      "\tAccuracy: 0.9995\t\t% Recall is: 0.9995% Precision score is: 0.9995% F1_score is : 0.9995\n",
      "electricity\n",
      "\tAccuracy: 0.9997\t\t% Recall is: 0.9997% Precision score is: 0.9997% F1_score is : 0.9997\n",
      "tools\n",
      "\tAccuracy: 0.9998\t\t% Recall is: 0.9998% Precision score is: 0.9998% F1_score is : 0.9998\n",
      "hospitals\n",
      "\tAccuracy: 0.9997\t\t% Recall is: 0.9997% Precision score is: 0.9997% F1_score is : 0.9997\n",
      "shops\n",
      "\tAccuracy: 0.9997\t\t% Recall is: 0.9997% Precision score is: 0.9997% F1_score is : 0.9997\n",
      "aid_centers\n",
      "\tAccuracy: 0.9998\t\t% Recall is: 0.9998% Precision score is: 0.9998% F1_score is : 0.9998\n",
      "other_infrastructure\n",
      "\tAccuracy: 0.9989\t\t% Recall is: 0.9989% Precision score is: 0.9989% F1_score is : 0.9989\n",
      "weather_related\n",
      "\tAccuracy: 0.9992\t\t% Recall is: 0.9992% Precision score is: 0.9992% F1_score is : 0.9992\n",
      "floods\n",
      "\tAccuracy: 0.9994\t\t% Recall is: 0.9994% Precision score is: 0.9994% F1_score is : 0.9994\n",
      "storm\n",
      "\tAccuracy: 0.9995\t\t% Recall is: 0.9995% Precision score is: 0.9995% F1_score is : 0.9995\n",
      "fire\n",
      "\tAccuracy: 0.9999\t\t% Recall is: 0.9999% Precision score is: 0.9999% F1_score is : 0.9999\n",
      "earthquake\n",
      "\tAccuracy: 0.9994\t\t% Recall is: 0.9994% Precision score is: 0.9994% F1_score is : 0.9994\n",
      "cold\n",
      "\tAccuracy: 0.9997\t\t% Recall is: 0.9997% Precision score is: 0.9997% F1_score is : 0.9997\n",
      "other_weather\n",
      "\tAccuracy: 0.9991\t\t% Recall is: 0.9991% Precision score is: 0.9991% F1_score is : 0.9991\n",
      "direct_report\n",
      "\tAccuracy: 0.9984\t\t% Recall is: 0.9984% Precision score is: 0.9984% F1_score is : 0.9984\n"
     ]
    }
   ],
   "source": [
    "# Testing the model now\n",
    "y_pred = cv_b.predict(X_train)\n",
    "my_modified_report(y_train, y_pred)"
   ]
  },
  {
   "cell_type": "code",
   "execution_count": 17,
   "metadata": {},
   "outputs": [
    {
     "name": "stdout",
     "output_type": "stream",
     "text": [
      "related\n",
      "\tAccuracy: 0.8271\t\t% Recall is: 0.8271% Precision score is: 0.8150% F1_score is : 0.8143\n",
      "request\n",
      "\tAccuracy: 0.9025\t\t% Recall is: 0.9025% Precision score is: 0.8976% F1_score is : 0.8946\n",
      "offer\n",
      "\tAccuracy: 0.9940\t\t% Recall is: 0.9940% Precision score is: 0.9884% F1_score is : 0.9912\n",
      "aid_related\n",
      "\tAccuracy: 0.7810\t\t% Recall is: 0.7810% Precision score is: 0.7800% F1_score is : 0.7802\n",
      "medical_help\n",
      "\tAccuracy: 0.9226\t\t% Recall is: 0.9226% Precision score is: 0.9016% F1_score is : 0.8921\n",
      "medical_products\n",
      "\tAccuracy: 0.9568\t\t% Recall is: 0.9568% Precision score is: 0.9503% F1_score is : 0.9401\n",
      "search_and_rescue\n",
      "\tAccuracy: 0.9725\t\t% Recall is: 0.9725% Precision score is: 0.9533% F1_score is : 0.9596\n",
      "security\n",
      "\tAccuracy: 0.9837\t\t% Recall is: 0.9837% Precision score is: 0.9759% F1_score is : 0.9759\n",
      "military\n",
      "\tAccuracy: 0.9649\t\t% Recall is: 0.9649% Precision score is: 0.9501% F1_score is : 0.9507\n",
      "child_alone\n",
      "\tAccuracy: 1.0000\t\t% Recall is: 1.0000% Precision score is: 1.0000% F1_score is : 1.0000\n",
      "water\n",
      "\tAccuracy: 0.9544\t\t% Recall is: 0.9544% Precision score is: 0.9508% F1_score is : 0.9442\n",
      "food\n",
      "\tAccuracy: 0.9307\t\t% Recall is: 0.9307% Precision score is: 0.9271% F1_score is : 0.9209\n",
      "shelter\n",
      "\tAccuracy: 0.9364\t\t% Recall is: 0.9364% Precision score is: 0.9318% F1_score is : 0.9225\n",
      "clothing\n",
      "\tAccuracy: 0.9866\t\t% Recall is: 0.9866% Precision score is: 0.9839% F1_score is : 0.9811\n",
      "money\n",
      "\tAccuracy: 0.9765\t\t% Recall is: 0.9765% Precision score is: 0.9771% F1_score is : 0.9657\n",
      "missing_people\n",
      "\tAccuracy: 0.9898\t\t% Recall is: 0.9898% Precision score is: 0.9797% F1_score is : 0.9847\n",
      "refugees\n",
      "\tAccuracy: 0.9658\t\t% Recall is: 0.9658% Precision score is: 0.9545% F1_score is : 0.9502\n",
      "death\n",
      "\tAccuracy: 0.9612\t\t% Recall is: 0.9612% Precision score is: 0.9568% F1_score is : 0.9463\n",
      "other_aid\n",
      "\tAccuracy: 0.8659\t\t% Recall is: 0.8659% Precision score is: 0.8320% F1_score is : 0.8165\n",
      "infrastructure_related\n",
      "\tAccuracy: 0.9344\t\t% Recall is: 0.9344% Precision score is: 0.8756% F1_score is : 0.9040\n",
      "transport\n",
      "\tAccuracy: 0.9576\t\t% Recall is: 0.9576% Precision score is: 0.9491% F1_score is : 0.9401\n",
      "buildings\n",
      "\tAccuracy: 0.9542\t\t% Recall is: 0.9542% Precision score is: 0.9424% F1_score is : 0.9379\n",
      "electricity\n",
      "\tAccuracy: 0.9800\t\t% Recall is: 0.9800% Precision score is: 0.9804% F1_score is : 0.9704\n",
      "tools\n",
      "\tAccuracy: 0.9944\t\t% Recall is: 0.9944% Precision score is: 0.9887% F1_score is : 0.9915\n",
      "hospitals\n",
      "\tAccuracy: 0.9898\t\t% Recall is: 0.9898% Precision score is: 0.9797% F1_score is : 0.9847\n",
      "shops\n",
      "\tAccuracy: 0.9948\t\t% Recall is: 0.9948% Precision score is: 0.9897% F1_score is : 0.9922\n",
      "aid_centers\n",
      "\tAccuracy: 0.9878\t\t% Recall is: 0.9878% Precision score is: 0.9775% F1_score is : 0.9826\n",
      "other_infrastructure\n",
      "\tAccuracy: 0.9564\t\t% Recall is: 0.9564% Precision score is: 0.9155% F1_score is : 0.9355\n",
      "weather_related\n",
      "\tAccuracy: 0.8752\t\t% Recall is: 0.8752% Precision score is: 0.8725% F1_score is : 0.8710\n",
      "floods\n",
      "\tAccuracy: 0.9469\t\t% Recall is: 0.9469% Precision score is: 0.9446% F1_score is : 0.9357\n",
      "storm\n",
      "\tAccuracy: 0.9374\t\t% Recall is: 0.9374% Precision score is: 0.9306% F1_score is : 0.9284\n",
      "fire\n",
      "\tAccuracy: 0.9889\t\t% Recall is: 0.9889% Precision score is: 0.9778% F1_score is : 0.9833\n",
      "earthquake\n",
      "\tAccuracy: 0.9551\t\t% Recall is: 0.9551% Precision score is: 0.9530% F1_score is : 0.9512\n",
      "cold\n",
      "\tAccuracy: 0.9802\t\t% Recall is: 0.9802% Precision score is: 0.9722% F1_score is : 0.9721\n",
      "other_weather\n",
      "\tAccuracy: 0.9481\t\t% Recall is: 0.9481% Precision score is: 0.9289% F1_score is : 0.9239\n",
      "direct_report\n",
      "\tAccuracy: 0.8598\t\t% Recall is: 0.8598% Precision score is: 0.8520% F1_score is : 0.8420\n"
     ]
    },
    {
     "name": "stderr",
     "output_type": "stream",
     "text": [
      "/home/bsaiva/.local/lib/python3.6/site-packages/sklearn/metrics/_classification.py:1272: UndefinedMetricWarning: Precision is ill-defined and being set to 0.0 in labels with no predicted samples. Use `zero_division` parameter to control this behavior.\n",
      "  _warn_prf(average, modifier, msg_start, len(result))\n"
     ]
    }
   ],
   "source": [
    "y_pred = cv_b.predict(X_test)\n",
    "my_modified_report(y_test, y_pred)"
   ]
  },
  {
   "cell_type": "markdown",
   "metadata": {},
   "source": [
    "### 8. Try improving your model further. Here are a few ideas:\n",
    "* try other machine learning algorithms\n",
    "* add other features besides the TF-IDF"
   ]
  },
  {
   "cell_type": "code",
   "execution_count": 18,
   "metadata": {},
   "outputs": [],
   "source": [
    "# New pipeline to improve the results of the model\n",
    "# Using Decision Tree Classifier now as compared to random forest classifier before\n",
    "\n",
    "pipeline_imp = Pipeline([\n",
    "    ('vect', CountVectorizer(tokenizer=tokenize_fn)),\n",
    "    ('tfidf', TfidfTransformer()),\n",
    "    ('clf', MultiOutputClassifier(\n",
    "        AdaBoostClassifier(base_estimator=DecisionTreeClassifier(max_depth=1, class_weight='balanced'))\n",
    "    ))\n",
    "])\n",
    "\n",
    "# Improved parameters \n",
    "parameters_imp = {\n",
    "    'clf__estimator__n_estimators': [100, 200],\n",
    "    'clf__estimator__learning_rate': [0.1, 0.3]\n",
    "}\n",
    "\n",
    "# new model with improved parameters\n",
    "cv_imp = GridSearchCV(estimator=pipeline_imp, param_grid=parameters_imp, cv=3, scoring='f1_weighted', verbose=3)"
   ]
  },
  {
   "cell_type": "code",
   "execution_count": 19,
   "metadata": {
    "scrolled": false
   },
   "outputs": [
    {
     "name": "stderr",
     "output_type": "stream",
     "text": [
      "[Parallel(n_jobs=1)]: Using backend SequentialBackend with 1 concurrent workers.\n"
     ]
    },
    {
     "name": "stdout",
     "output_type": "stream",
     "text": [
      "Fitting 3 folds for each of 4 candidates, totalling 12 fits\n",
      "[CV] clf__estimator__learning_rate=0.1, clf__estimator__n_estimators=100 \n"
     ]
    },
    {
     "name": "stderr",
     "output_type": "stream",
     "text": [
      "/home/bsaiva/.local/lib/python3.6/site-packages/sklearn/metrics/_classification.py:1515: UndefinedMetricWarning: F-score is ill-defined and being set to 0.0 in labels with no true nor predicted samples. Use `zero_division` parameter to control this behavior.\n",
      "  average, \"true nor predicted\", 'F-score is', len(true_sum)\n",
      "[Parallel(n_jobs=1)]: Done   1 out of   1 | elapsed:  2.2min remaining:    0.0s\n"
     ]
    },
    {
     "name": "stdout",
     "output_type": "stream",
     "text": [
      "[CV]  clf__estimator__learning_rate=0.1, clf__estimator__n_estimators=100, score=0.602, total= 2.2min\n",
      "[CV] clf__estimator__learning_rate=0.1, clf__estimator__n_estimators=100 \n"
     ]
    },
    {
     "name": "stderr",
     "output_type": "stream",
     "text": [
      "/home/bsaiva/.local/lib/python3.6/site-packages/sklearn/metrics/_classification.py:1515: UndefinedMetricWarning: F-score is ill-defined and being set to 0.0 in labels with no true nor predicted samples. Use `zero_division` parameter to control this behavior.\n",
      "  average, \"true nor predicted\", 'F-score is', len(true_sum)\n",
      "[Parallel(n_jobs=1)]: Done   2 out of   2 | elapsed:  4.5min remaining:    0.0s\n"
     ]
    },
    {
     "name": "stdout",
     "output_type": "stream",
     "text": [
      "[CV]  clf__estimator__learning_rate=0.1, clf__estimator__n_estimators=100, score=0.599, total= 2.3min\n",
      "[CV] clf__estimator__learning_rate=0.1, clf__estimator__n_estimators=100 \n"
     ]
    },
    {
     "name": "stderr",
     "output_type": "stream",
     "text": [
      "/home/bsaiva/.local/lib/python3.6/site-packages/sklearn/metrics/_classification.py:1515: UndefinedMetricWarning: F-score is ill-defined and being set to 0.0 in labels with no true nor predicted samples. Use `zero_division` parameter to control this behavior.\n",
      "  average, \"true nor predicted\", 'F-score is', len(true_sum)\n"
     ]
    },
    {
     "name": "stdout",
     "output_type": "stream",
     "text": [
      "[CV]  clf__estimator__learning_rate=0.1, clf__estimator__n_estimators=100, score=0.603, total= 2.2min\n",
      "[CV] clf__estimator__learning_rate=0.1, clf__estimator__n_estimators=200 \n"
     ]
    },
    {
     "name": "stderr",
     "output_type": "stream",
     "text": [
      "/home/bsaiva/.local/lib/python3.6/site-packages/sklearn/metrics/_classification.py:1515: UndefinedMetricWarning: F-score is ill-defined and being set to 0.0 in labels with no true nor predicted samples. Use `zero_division` parameter to control this behavior.\n",
      "  average, \"true nor predicted\", 'F-score is', len(true_sum)\n"
     ]
    },
    {
     "name": "stdout",
     "output_type": "stream",
     "text": [
      "[CV]  clf__estimator__learning_rate=0.1, clf__estimator__n_estimators=200, score=0.619, total= 3.7min\n",
      "[CV] clf__estimator__learning_rate=0.1, clf__estimator__n_estimators=200 \n"
     ]
    },
    {
     "name": "stderr",
     "output_type": "stream",
     "text": [
      "/home/bsaiva/.local/lib/python3.6/site-packages/sklearn/metrics/_classification.py:1515: UndefinedMetricWarning: F-score is ill-defined and being set to 0.0 in labels with no true nor predicted samples. Use `zero_division` parameter to control this behavior.\n",
      "  average, \"true nor predicted\", 'F-score is', len(true_sum)\n"
     ]
    },
    {
     "name": "stdout",
     "output_type": "stream",
     "text": [
      "[CV]  clf__estimator__learning_rate=0.1, clf__estimator__n_estimators=200, score=0.616, total= 3.8min\n",
      "[CV] clf__estimator__learning_rate=0.1, clf__estimator__n_estimators=200 \n"
     ]
    },
    {
     "name": "stderr",
     "output_type": "stream",
     "text": [
      "/home/bsaiva/.local/lib/python3.6/site-packages/sklearn/metrics/_classification.py:1515: UndefinedMetricWarning: F-score is ill-defined and being set to 0.0 in labels with no true nor predicted samples. Use `zero_division` parameter to control this behavior.\n",
      "  average, \"true nor predicted\", 'F-score is', len(true_sum)\n"
     ]
    },
    {
     "name": "stdout",
     "output_type": "stream",
     "text": [
      "[CV]  clf__estimator__learning_rate=0.1, clf__estimator__n_estimators=200, score=0.624, total= 3.7min\n",
      "[CV] clf__estimator__learning_rate=0.3, clf__estimator__n_estimators=100 \n"
     ]
    },
    {
     "name": "stderr",
     "output_type": "stream",
     "text": [
      "/home/bsaiva/.local/lib/python3.6/site-packages/sklearn/metrics/_classification.py:1515: UndefinedMetricWarning: F-score is ill-defined and being set to 0.0 in labels with no true nor predicted samples. Use `zero_division` parameter to control this behavior.\n",
      "  average, \"true nor predicted\", 'F-score is', len(true_sum)\n"
     ]
    },
    {
     "name": "stdout",
     "output_type": "stream",
     "text": [
      "[CV]  clf__estimator__learning_rate=0.3, clf__estimator__n_estimators=100, score=0.622, total= 2.2min\n",
      "[CV] clf__estimator__learning_rate=0.3, clf__estimator__n_estimators=100 \n"
     ]
    },
    {
     "name": "stderr",
     "output_type": "stream",
     "text": [
      "/home/bsaiva/.local/lib/python3.6/site-packages/sklearn/metrics/_classification.py:1515: UndefinedMetricWarning: F-score is ill-defined and being set to 0.0 in labels with no true nor predicted samples. Use `zero_division` parameter to control this behavior.\n",
      "  average, \"true nor predicted\", 'F-score is', len(true_sum)\n"
     ]
    },
    {
     "name": "stdout",
     "output_type": "stream",
     "text": [
      "[CV]  clf__estimator__learning_rate=0.3, clf__estimator__n_estimators=100, score=0.624, total= 2.3min\n",
      "[CV] clf__estimator__learning_rate=0.3, clf__estimator__n_estimators=100 \n"
     ]
    },
    {
     "name": "stderr",
     "output_type": "stream",
     "text": [
      "/home/bsaiva/.local/lib/python3.6/site-packages/sklearn/metrics/_classification.py:1515: UndefinedMetricWarning: F-score is ill-defined and being set to 0.0 in labels with no true nor predicted samples. Use `zero_division` parameter to control this behavior.\n",
      "  average, \"true nor predicted\", 'F-score is', len(true_sum)\n"
     ]
    },
    {
     "name": "stdout",
     "output_type": "stream",
     "text": [
      "[CV]  clf__estimator__learning_rate=0.3, clf__estimator__n_estimators=100, score=0.626, total= 2.3min\n",
      "[CV] clf__estimator__learning_rate=0.3, clf__estimator__n_estimators=200 \n"
     ]
    },
    {
     "name": "stderr",
     "output_type": "stream",
     "text": [
      "/home/bsaiva/.local/lib/python3.6/site-packages/sklearn/metrics/_classification.py:1515: UndefinedMetricWarning: F-score is ill-defined and being set to 0.0 in labels with no true nor predicted samples. Use `zero_division` parameter to control this behavior.\n",
      "  average, \"true nor predicted\", 'F-score is', len(true_sum)\n"
     ]
    },
    {
     "name": "stdout",
     "output_type": "stream",
     "text": [
      "[CV]  clf__estimator__learning_rate=0.3, clf__estimator__n_estimators=200, score=0.631, total= 3.7min\n",
      "[CV] clf__estimator__learning_rate=0.3, clf__estimator__n_estimators=200 \n"
     ]
    },
    {
     "name": "stderr",
     "output_type": "stream",
     "text": [
      "/home/bsaiva/.local/lib/python3.6/site-packages/sklearn/metrics/_classification.py:1515: UndefinedMetricWarning: F-score is ill-defined and being set to 0.0 in labels with no true nor predicted samples. Use `zero_division` parameter to control this behavior.\n",
      "  average, \"true nor predicted\", 'F-score is', len(true_sum)\n"
     ]
    },
    {
     "name": "stdout",
     "output_type": "stream",
     "text": [
      "[CV]  clf__estimator__learning_rate=0.3, clf__estimator__n_estimators=200, score=0.632, total= 3.8min\n",
      "[CV] clf__estimator__learning_rate=0.3, clf__estimator__n_estimators=200 \n"
     ]
    },
    {
     "name": "stderr",
     "output_type": "stream",
     "text": [
      "/home/bsaiva/.local/lib/python3.6/site-packages/sklearn/metrics/_classification.py:1515: UndefinedMetricWarning: F-score is ill-defined and being set to 0.0 in labels with no true nor predicted samples. Use `zero_division` parameter to control this behavior.\n",
      "  average, \"true nor predicted\", 'F-score is', len(true_sum)\n",
      "[Parallel(n_jobs=1)]: Done  12 out of  12 | elapsed: 35.8min finished\n"
     ]
    },
    {
     "name": "stdout",
     "output_type": "stream",
     "text": [
      "[CV]  clf__estimator__learning_rate=0.3, clf__estimator__n_estimators=200, score=0.636, total= 3.7min\n"
     ]
    },
    {
     "data": {
      "text/plain": [
       "GridSearchCV(cv=3, error_score=nan,\n",
       "             estimator=Pipeline(memory=None,\n",
       "                                steps=[('vect',\n",
       "                                        CountVectorizer(analyzer='word',\n",
       "                                                        binary=False,\n",
       "                                                        decode_error='strict',\n",
       "                                                        dtype=<class 'numpy.int64'>,\n",
       "                                                        encoding='utf-8',\n",
       "                                                        input='content',\n",
       "                                                        lowercase=True,\n",
       "                                                        max_df=1.0,\n",
       "                                                        max_features=None,\n",
       "                                                        min_df=1,\n",
       "                                                        ngram_range=(1, 1),\n",
       "                                                        preprocessor=None,\n",
       "                                                        stop_words=None,\n",
       "                                                        strip_accents=None,\n",
       "                                                        token_pattern='(?u)...\n",
       "                                                                                                                                 presort='deprecated',\n",
       "                                                                                                                                 random_state=None,\n",
       "                                                                                                                                 splitter='best'),\n",
       "                                                                                           learning_rate=1.0,\n",
       "                                                                                           n_estimators=50,\n",
       "                                                                                           random_state=None),\n",
       "                                                              n_jobs=None))],\n",
       "                                verbose=False),\n",
       "             iid='deprecated', n_jobs=None,\n",
       "             param_grid={'clf__estimator__learning_rate': [0.1, 0.3],\n",
       "                         'clf__estimator__n_estimators': [100, 200]},\n",
       "             pre_dispatch='2*n_jobs', refit=True, return_train_score=False,\n",
       "             scoring='f1_weighted', verbose=3)"
      ]
     },
     "execution_count": 19,
     "metadata": {},
     "output_type": "execute_result"
    }
   ],
   "source": [
    "cv_imp.fit(X_train, y_train)"
   ]
  },
  {
   "cell_type": "code",
   "execution_count": 20,
   "metadata": {},
   "outputs": [
    {
     "data": {
      "text/plain": [
       "{'clf__estimator__learning_rate': 0.3, 'clf__estimator__n_estimators': 200}"
      ]
     },
     "execution_count": 20,
     "metadata": {},
     "output_type": "execute_result"
    }
   ],
   "source": [
    "# Checking the new parameters obtained from GridSearchCV\n",
    "cv_imp.best_params_"
   ]
  },
  {
   "cell_type": "code",
   "execution_count": 21,
   "metadata": {},
   "outputs": [
    {
     "name": "stdout",
     "output_type": "stream",
     "text": [
      "related\n",
      "\tAccuracy: 0.7321\t\t% Recall is: 0.7321% Precision score is: 0.8353% F1_score is : 0.7524\n",
      "request\n",
      "\tAccuracy: 0.8665\t\t% Recall is: 0.8665% Precision score is: 0.8871% F1_score is : 0.8736\n",
      "offer\n",
      "\tAccuracy: 0.9743\t\t% Recall is: 0.9743% Precision score is: 0.9965% F1_score is : 0.9839\n",
      "aid_related\n",
      "\tAccuracy: 0.7829\t\t% Recall is: 0.7829% Precision score is: 0.7817% F1_score is : 0.7818\n",
      "medical_help\n",
      "\tAccuracy: 0.8989\t\t% Recall is: 0.8989% Precision score is: 0.9309% F1_score is : 0.9107\n",
      "medical_products\n",
      "\tAccuracy: 0.9008\t\t% Recall is: 0.9008% Precision score is: 0.9525% F1_score is : 0.9199\n",
      "search_and_rescue\n",
      "\tAccuracy: 0.8782\t\t% Recall is: 0.8782% Precision score is: 0.9713% F1_score is : 0.9152\n",
      "security\n",
      "\tAccuracy: 0.8671\t\t% Recall is: 0.8671% Precision score is: 0.9812% F1_score is : 0.9140\n",
      "military\n",
      "\tAccuracy: 0.9521\t\t% Recall is: 0.9521% Precision score is: 0.9764% F1_score is : 0.9608\n",
      "child_alone\n",
      "\tAccuracy: 1.0000\t\t% Recall is: 1.0000% Precision score is: 1.0000% F1_score is : 1.0000\n",
      "water\n",
      "\tAccuracy: 0.9490\t\t% Recall is: 0.9490% Precision score is: 0.9654% F1_score is : 0.9543\n",
      "food\n",
      "\tAccuracy: 0.9531\t\t% Recall is: 0.9531% Precision score is: 0.9569% F1_score is : 0.9545\n",
      "shelter\n",
      "\tAccuracy: 0.9354\t\t% Recall is: 0.9354% Precision score is: 0.9494% F1_score is : 0.9402\n",
      "clothing\n",
      "\tAccuracy: 0.9791\t\t% Recall is: 0.9791% Precision score is: 0.9899% F1_score is : 0.9829\n",
      "money\n",
      "\tAccuracy: 0.9492\t\t% Recall is: 0.9492% Precision score is: 0.9813% F1_score is : 0.9613\n",
      "missing_people\n",
      "\tAccuracy: 0.9444\t\t% Recall is: 0.9444% Precision score is: 0.9891% F1_score is : 0.9630\n",
      "refugees\n",
      "\tAccuracy: 0.9156\t\t% Recall is: 0.9156% Precision score is: 0.9688% F1_score is : 0.9360\n",
      "death\n",
      "\tAccuracy: 0.9552\t\t% Recall is: 0.9552% Precision score is: 0.9692% F1_score is : 0.9602\n",
      "other_aid\n",
      "\tAccuracy: 0.7850\t\t% Recall is: 0.7850% Precision score is: 0.8628% F1_score is : 0.8120\n",
      "infrastructure_related\n",
      "\tAccuracy: 0.7967\t\t% Recall is: 0.7967% Precision score is: 0.9301% F1_score is : 0.8443\n",
      "transport\n",
      "\tAccuracy: 0.8904\t\t% Recall is: 0.8904% Precision score is: 0.9507% F1_score is : 0.9137\n",
      "buildings\n",
      "\tAccuracy: 0.9236\t\t% Recall is: 0.9236% Precision score is: 0.9588% F1_score is : 0.9361\n",
      "electricity\n",
      "\tAccuracy: 0.9689\t\t% Recall is: 0.9689% Precision score is: 0.9849% F1_score is : 0.9748\n",
      "tools\n",
      "\tAccuracy: 0.9574\t\t% Recall is: 0.9574% Precision score is: 0.9946% F1_score is : 0.9734\n",
      "hospitals\n",
      "\tAccuracy: 0.9600\t\t% Recall is: 0.9600% Precision score is: 0.9907% F1_score is : 0.9723\n",
      "shops\n",
      "\tAccuracy: 0.9730\t\t% Recall is: 0.9730% Precision score is: 0.9962% F1_score is : 0.9830\n",
      "aid_centers\n",
      "\tAccuracy: 0.9397\t\t% Recall is: 0.9397% Precision score is: 0.9888% F1_score is : 0.9602\n",
      "other_infrastructure\n",
      "\tAccuracy: 0.8172\t\t% Recall is: 0.8172% Precision score is: 0.9548% F1_score is : 0.8683\n",
      "weather_related\n",
      "\tAccuracy: 0.8925\t\t% Recall is: 0.8925% Precision score is: 0.8909% F1_score is : 0.8913\n",
      "floods\n",
      "\tAccuracy: 0.9456\t\t% Recall is: 0.9456% Precision score is: 0.9499% F1_score is : 0.9474\n",
      "storm\n",
      "\tAccuracy: 0.9481\t\t% Recall is: 0.9481% Precision score is: 0.9575% F1_score is : 0.9512\n",
      "fire\n",
      "\tAccuracy: 0.9793\t\t% Recall is: 0.9793% Precision score is: 0.9925% F1_score is : 0.9842\n",
      "earthquake\n",
      "\tAccuracy: 0.9730\t\t% Recall is: 0.9730% Precision score is: 0.9737% F1_score is : 0.9733\n",
      "cold\n",
      "\tAccuracy: 0.9695\t\t% Recall is: 0.9695% Precision score is: 0.9846% F1_score is : 0.9751\n",
      "other_weather\n",
      "\tAccuracy: 0.8795\t\t% Recall is: 0.8795% Precision score is: 0.9472% F1_score is : 0.9049\n",
      "direct_report\n",
      "\tAccuracy: 0.8174\t\t% Recall is: 0.8174% Precision score is: 0.8482% F1_score is : 0.8279\n"
     ]
    }
   ],
   "source": [
    "y_pred = cv_imp.predict(X_train)\n",
    "my_modified_report(y_train, y_pred)"
   ]
  },
  {
   "cell_type": "code",
   "execution_count": 22,
   "metadata": {},
   "outputs": [
    {
     "name": "stdout",
     "output_type": "stream",
     "text": [
      "related\n",
      "\tAccuracy: 0.7356\t\t% Recall is: 0.7356% Precision score is: 0.8302% F1_score is : 0.7554\n",
      "request\n",
      "\tAccuracy: 0.8547\t\t% Recall is: 0.8547% Precision score is: 0.8761% F1_score is : 0.8623\n",
      "offer\n",
      "\tAccuracy: 0.9605\t\t% Recall is: 0.9605% Precision score is: 0.9900% F1_score is : 0.9745\n",
      "aid_related\n",
      "\tAccuracy: 0.7728\t\t% Recall is: 0.7728% Precision score is: 0.7715% F1_score is : 0.7716\n",
      "medical_help\n",
      "\tAccuracy: 0.8859\t\t% Recall is: 0.8859% Precision score is: 0.9161% F1_score is : 0.8981\n",
      "medical_products\n",
      "\tAccuracy: 0.8920\t\t% Recall is: 0.8920% Precision score is: 0.9492% F1_score is : 0.9144\n",
      "search_and_rescue\n",
      "\tAccuracy: 0.8563\t\t% Recall is: 0.8563% Precision score is: 0.9592% F1_score is : 0.9006\n",
      "security\n",
      "\tAccuracy: 0.8398\t\t% Recall is: 0.8398% Precision score is: 0.9732% F1_score is : 0.8986\n",
      "military\n",
      "\tAccuracy: 0.9469\t\t% Recall is: 0.9469% Precision score is: 0.9684% F1_score is : 0.9552\n",
      "child_alone\n",
      "\tAccuracy: 1.0000\t\t% Recall is: 1.0000% Precision score is: 1.0000% F1_score is : 1.0000\n",
      "water\n",
      "\tAccuracy: 0.9478\t\t% Recall is: 0.9478% Precision score is: 0.9653% F1_score is : 0.9535\n",
      "food\n",
      "\tAccuracy: 0.9506\t\t% Recall is: 0.9506% Precision score is: 0.9544% F1_score is : 0.9520\n",
      "shelter\n",
      "\tAccuracy: 0.9271\t\t% Recall is: 0.9271% Precision score is: 0.9417% F1_score is : 0.9325\n",
      "clothing\n",
      "\tAccuracy: 0.9727\t\t% Recall is: 0.9727% Precision score is: 0.9850% F1_score is : 0.9778\n",
      "money\n",
      "\tAccuracy: 0.9394\t\t% Recall is: 0.9394% Precision score is: 0.9746% F1_score is : 0.9536\n",
      "missing_people\n",
      "\tAccuracy: 0.9287\t\t% Recall is: 0.9287% Precision score is: 0.9834% F1_score is : 0.9540\n",
      "refugees\n",
      "\tAccuracy: 0.9112\t\t% Recall is: 0.9112% Precision score is: 0.9610% F1_score is : 0.9313\n",
      "death\n",
      "\tAccuracy: 0.9446\t\t% Recall is: 0.9446% Precision score is: 0.9650% F1_score is : 0.9523\n",
      "other_aid\n",
      "\tAccuracy: 0.7612\t\t% Recall is: 0.7612% Precision score is: 0.8413% F1_score is : 0.7899\n",
      "infrastructure_related\n",
      "\tAccuracy: 0.7768\t\t% Recall is: 0.7768% Precision score is: 0.9143% F1_score is : 0.8293\n",
      "transport\n",
      "\tAccuracy: 0.8703\t\t% Recall is: 0.8703% Precision score is: 0.9382% F1_score is : 0.8989\n",
      "buildings\n",
      "\tAccuracy: 0.9194\t\t% Recall is: 0.9194% Precision score is: 0.9556% F1_score is : 0.9331\n",
      "electricity\n",
      "\tAccuracy: 0.9655\t\t% Recall is: 0.9655% Precision score is: 0.9788% F1_score is : 0.9710\n",
      "tools\n",
      "\tAccuracy: 0.9471\t\t% Recall is: 0.9471% Precision score is: 0.9904% F1_score is : 0.9676\n",
      "hospitals\n",
      "\tAccuracy: 0.9554\t\t% Recall is: 0.9554% Precision score is: 0.9857% F1_score is : 0.9690\n",
      "shops\n",
      "\tAccuracy: 0.9612\t\t% Recall is: 0.9612% Precision score is: 0.9909% F1_score is : 0.9754\n",
      "aid_centers\n",
      "\tAccuracy: 0.9324\t\t% Recall is: 0.9324% Precision score is: 0.9835% F1_score is : 0.9555\n",
      "other_infrastructure\n",
      "\tAccuracy: 0.8039\t\t% Recall is: 0.8039% Precision score is: 0.9435% F1_score is : 0.8590\n",
      "weather_related\n",
      "\tAccuracy: 0.8874\t\t% Recall is: 0.8874% Precision score is: 0.8854% F1_score is : 0.8859\n",
      "floods\n",
      "\tAccuracy: 0.9379\t\t% Recall is: 0.9379% Precision score is: 0.9432% F1_score is : 0.9402\n",
      "storm\n",
      "\tAccuracy: 0.9451\t\t% Recall is: 0.9451% Precision score is: 0.9553% F1_score is : 0.9486\n",
      "fire\n",
      "\tAccuracy: 0.9731\t\t% Recall is: 0.9731% Precision score is: 0.9850% F1_score is : 0.9784\n",
      "earthquake\n",
      "\tAccuracy: 0.9702\t\t% Recall is: 0.9702% Precision score is: 0.9707% F1_score is : 0.9704\n",
      "cold\n",
      "\tAccuracy: 0.9660\t\t% Recall is: 0.9660% Precision score is: 0.9797% F1_score is : 0.9716\n",
      "other_weather\n",
      "\tAccuracy: 0.8688\t\t% Recall is: 0.8688% Precision score is: 0.9383% F1_score is : 0.8963\n",
      "direct_report\n",
      "\tAccuracy: 0.8029\t\t% Recall is: 0.8029% Precision score is: 0.8318% F1_score is : 0.8131\n"
     ]
    }
   ],
   "source": [
    "y_pred = cv_imp.predict(X_test)\n",
    "my_modified_report(y_test, y_pred)"
   ]
  },
  {
   "cell_type": "markdown",
   "metadata": {},
   "source": [
    "### 9. Export your model as a pickle file"
   ]
  },
  {
   "cell_type": "code",
   "execution_count": 23,
   "metadata": {},
   "outputs": [],
   "source": [
    "with open('adaboost_new.pkl', 'wb') as file:\n",
    "    pickle.dump(cv_imp, file)"
   ]
  },
  {
   "cell_type": "markdown",
   "metadata": {},
   "source": [
    "### 10. Use this notebook to complete `train.py`\n",
    "Use the template file attached in the Resources folder to write a script that runs the steps above to create a database and export a model based on a new dataset specified by the user."
   ]
  },
  {
   "cell_type": "code",
   "execution_count": null,
   "metadata": {},
   "outputs": [],
   "source": []
  }
 ],
 "metadata": {
  "kernelspec": {
   "display_name": "Python 3",
   "language": "python",
   "name": "python3"
  },
  "language_info": {
   "codemirror_mode": {
    "name": "ipython",
    "version": 3
   },
   "file_extension": ".py",
   "mimetype": "text/x-python",
   "name": "python",
   "nbconvert_exporter": "python",
   "pygments_lexer": "ipython3",
   "version": "3.6.9"
  }
 },
 "nbformat": 4,
 "nbformat_minor": 2
}
